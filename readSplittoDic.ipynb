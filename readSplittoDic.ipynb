{
  "nbformat": 4,
  "nbformat_minor": 0,
  "metadata": {
    "kernelspec": {
      "display_name": "Python 3",
      "language": "python",
      "name": "python3"
    },
    "language_info": {
      "codemirror_mode": {
        "name": "ipython",
        "version": 3
      },
      "file_extension": ".py",
      "mimetype": "text/x-python",
      "name": "python",
      "nbconvert_exporter": "python",
      "pygments_lexer": "ipython3",
      "version": "3.6.8"
    },
    "colab": {
      "name": "readSplittoDic.ipynb",
      "provenance": [],
      "collapsed_sections": [],
      "include_colab_link": true
    }
  },
  "cells": [
    {
      "cell_type": "markdown",
      "metadata": {
        "id": "view-in-github",
        "colab_type": "text"
      },
      "source": [
        "<a href=\"https://colab.research.google.com/github/dev225reddys/colab/blob/master/readSplittoDic.ipynb\" target=\"_parent\"><img src=\"https://colab.research.google.com/assets/colab-badge.svg\" alt=\"Open In Colab\"/></a>"
      ]
    },
    {
      "cell_type": "code",
      "metadata": {
        "id": "lYvwGCv0HljB",
        "colab_type": "code",
        "colab": {}
      },
      "source": [
        "f = open(\"data_tintin_shop.txt\").read().splitlines()\n"
      ],
      "execution_count": 0,
      "outputs": []
    },
    {
      "cell_type": "code",
      "metadata": {
        "id": "OjmDHxIAHljI",
        "colab_type": "code",
        "outputId": "20925302-e8f1-485e-b23e-94f46ad6fc73",
        "colab": {}
      },
      "source": [
        "\n",
        "dinArr = []\n",
        "for data in range(len(f)):\n",
        "    eDat = {}\n",
        "    geoData = f[data]\n",
        "    print(geoData)\n",
        "    eachGData = geoData.split(\",\")\n",
        "#     print(eachGData)\n",
        "    x = y = 0\n",
        "    for eD in range(len(eachGData)):\n",
        "        if eD%2==0:\n",
        "            eDat[\"x\"+str(x)]=int(eachGData[eD])\n",
        "            x+=1\n",
        "        if eD%2!=0:\n",
        "            eDat[\"y\"+str(y)]=int(eachGData[eD])\n",
        "            y+=1\n",
        "    dinArr.append(eDat)\n",
        "        \n",
        "print(dinArr)"
      ],
      "execution_count": 0,
      "outputs": [
        {
          "output_type": "stream",
          "text": [
            "81,592,181,594,181,623,80,621\n",
            "1005,66,1100,67,1100,92,1004,91\n",
            "485,14,676,15,676,60,485,59\n",
            "106,59,199,60,199,85,106,84\n",
            "686,16,844,14,844,60,686,61\n",
            "365,14,475,15,475,59,365,58\n",
            "98,561,139,567,137,583,96,577\n",
            "857,535,892,536,892,549,857,548\n",
            "666,358,696,359,695,370,666,369\n",
            "924,550,970,553,969,570,923,567\n",
            "324,602,353,600,354,613,325,615\n",
            "897,533,935,535,934,549,897,547\n",
            "1024,512,1061,513,1061,525,1023,524\n",
            "839,551,874,552,874,571,838,570\n",
            "135,568,166,562,168,577,137,583\n",
            "875,552,915,553,914,571,874,570\n",
            "155,558,184,547,189,561,160,572\n",
            "[{'x0': 81, 'y0': 592, 'x1': 181, 'y1': 594, 'x2': 181, 'y2': 623, 'x3': 80, 'y3': 621}, {'x0': 1005, 'y0': 66, 'x1': 1100, 'y1': 67, 'x2': 1100, 'y2': 92, 'x3': 1004, 'y3': 91}, {'x0': 485, 'y0': 14, 'x1': 676, 'y1': 15, 'x2': 676, 'y2': 60, 'x3': 485, 'y3': 59}, {'x0': 106, 'y0': 59, 'x1': 199, 'y1': 60, 'x2': 199, 'y2': 85, 'x3': 106, 'y3': 84}, {'x0': 686, 'y0': 16, 'x1': 844, 'y1': 14, 'x2': 844, 'y2': 60, 'x3': 686, 'y3': 61}, {'x0': 365, 'y0': 14, 'x1': 475, 'y1': 15, 'x2': 475, 'y2': 59, 'x3': 365, 'y3': 58}, {'x0': 98, 'y0': 561, 'x1': 139, 'y1': 567, 'x2': 137, 'y2': 583, 'x3': 96, 'y3': 577}, {'x0': 857, 'y0': 535, 'x1': 892, 'y1': 536, 'x2': 892, 'y2': 549, 'x3': 857, 'y3': 548}, {'x0': 666, 'y0': 358, 'x1': 696, 'y1': 359, 'x2': 695, 'y2': 370, 'x3': 666, 'y3': 369}, {'x0': 924, 'y0': 550, 'x1': 970, 'y1': 553, 'x2': 969, 'y2': 570, 'x3': 923, 'y3': 567}, {'x0': 324, 'y0': 602, 'x1': 353, 'y1': 600, 'x2': 354, 'y2': 613, 'x3': 325, 'y3': 615}, {'x0': 897, 'y0': 533, 'x1': 935, 'y1': 535, 'x2': 934, 'y2': 549, 'x3': 897, 'y3': 547}, {'x0': 1024, 'y0': 512, 'x1': 1061, 'y1': 513, 'x2': 1061, 'y2': 525, 'x3': 1023, 'y3': 524}, {'x0': 839, 'y0': 551, 'x1': 874, 'y1': 552, 'x2': 874, 'y2': 571, 'x3': 838, 'y3': 570}, {'x0': 135, 'y0': 568, 'x1': 166, 'y1': 562, 'x2': 168, 'y2': 577, 'x3': 137, 'y3': 583}, {'x0': 875, 'y0': 552, 'x1': 915, 'y1': 553, 'x2': 914, 'y2': 571, 'x3': 874, 'y3': 570}, {'x0': 155, 'y0': 558, 'x1': 184, 'y1': 547, 'x2': 189, 'y2': 561, 'x3': 160, 'y3': 572}]\n"
          ],
          "name": "stdout"
        }
      ]
    },
    {
      "cell_type": "code",
      "metadata": {
        "id": "8ONy7VI4HljM",
        "colab_type": "code",
        "outputId": "437574da-377f-474b-b61c-9e0143bdb7ff",
        "colab": {}
      },
      "source": [
        "str1 = open(\"data_tintin_shop.txt\").read().splitlines()\n",
        "items=[];temp_items={}\n",
        "for i in str1:\n",
        "    item=i.split(\",\")\n",
        "    x=y=0\n",
        "    temp_items={}\n",
        "    for i in range(0,len(item)):\n",
        "        if(i%2==0):\n",
        "            temp_items['x'+str(x)] = int(item[i])\n",
        "            x+=1;\n",
        "        else:\n",
        "            temp_items['y'+str(y)] = int(item[i])\n",
        "            y+=1;\n",
        "    items.append(temp_items)\n",
        "print(items)"
      ],
      "execution_count": 0,
      "outputs": [
        {
          "output_type": "stream",
          "text": [
            "[{'x0': 81, 'y0': 592, 'x1': 181, 'y1': 594, 'x2': 181, 'y2': 623, 'x3': 80, 'y3': 621}, {'x0': 1005, 'y0': 66, 'x1': 1100, 'y1': 67, 'x2': 1100, 'y2': 92, 'x3': 1004, 'y3': 91}, {'x0': 485, 'y0': 14, 'x1': 676, 'y1': 15, 'x2': 676, 'y2': 60, 'x3': 485, 'y3': 59}, {'x0': 106, 'y0': 59, 'x1': 199, 'y1': 60, 'x2': 199, 'y2': 85, 'x3': 106, 'y3': 84}, {'x0': 686, 'y0': 16, 'x1': 844, 'y1': 14, 'x2': 844, 'y2': 60, 'x3': 686, 'y3': 61}, {'x0': 365, 'y0': 14, 'x1': 475, 'y1': 15, 'x2': 475, 'y2': 59, 'x3': 365, 'y3': 58}, {'x0': 98, 'y0': 561, 'x1': 139, 'y1': 567, 'x2': 137, 'y2': 583, 'x3': 96, 'y3': 577}, {'x0': 857, 'y0': 535, 'x1': 892, 'y1': 536, 'x2': 892, 'y2': 549, 'x3': 857, 'y3': 548}, {'x0': 666, 'y0': 358, 'x1': 696, 'y1': 359, 'x2': 695, 'y2': 370, 'x3': 666, 'y3': 369}, {'x0': 924, 'y0': 550, 'x1': 970, 'y1': 553, 'x2': 969, 'y2': 570, 'x3': 923, 'y3': 567}, {'x0': 324, 'y0': 602, 'x1': 353, 'y1': 600, 'x2': 354, 'y2': 613, 'x3': 325, 'y3': 615}, {'x0': 897, 'y0': 533, 'x1': 935, 'y1': 535, 'x2': 934, 'y2': 549, 'x3': 897, 'y3': 547}, {'x0': 1024, 'y0': 512, 'x1': 1061, 'y1': 513, 'x2': 1061, 'y2': 525, 'x3': 1023, 'y3': 524}, {'x0': 839, 'y0': 551, 'x1': 874, 'y1': 552, 'x2': 874, 'y2': 571, 'x3': 838, 'y3': 570}, {'x0': 135, 'y0': 568, 'x1': 166, 'y1': 562, 'x2': 168, 'y2': 577, 'x3': 137, 'y3': 583}, {'x0': 875, 'y0': 552, 'x1': 915, 'y1': 553, 'x2': 914, 'y2': 571, 'x3': 874, 'y3': 570}, {'x0': 155, 'y0': 558, 'x1': 184, 'y1': 547, 'x2': 189, 'y2': 561, 'x3': 160, 'y3': 572}]\n"
          ],
          "name": "stdout"
        }
      ]
    },
    {
      "cell_type": "code",
      "metadata": {
        "id": "-T2jWWBXHljQ",
        "colab_type": "code",
        "outputId": "792960c2-c197-4ba1-d8e1-6fac9b1d9754",
        "colab": {}
      },
      "source": [
        "items"
      ],
      "execution_count": 0,
      "outputs": [
        {
          "output_type": "execute_result",
          "data": {
            "text/plain": [
              "[{'x0': 81,\n",
              "  'x1': 181,\n",
              "  'x2': 181,\n",
              "  'x3': 80,\n",
              "  'y0': 592,\n",
              "  'y1': 594,\n",
              "  'y2': 623,\n",
              "  'y3': 621},\n",
              " {'x0': 1005,\n",
              "  'x1': 1100,\n",
              "  'x2': 1100,\n",
              "  'x3': 1004,\n",
              "  'y0': 66,\n",
              "  'y1': 67,\n",
              "  'y2': 92,\n",
              "  'y3': 91},\n",
              " {'x0': 485,\n",
              "  'x1': 676,\n",
              "  'x2': 676,\n",
              "  'x3': 485,\n",
              "  'y0': 14,\n",
              "  'y1': 15,\n",
              "  'y2': 60,\n",
              "  'y3': 59},\n",
              " {'x0': 106,\n",
              "  'x1': 199,\n",
              "  'x2': 199,\n",
              "  'x3': 106,\n",
              "  'y0': 59,\n",
              "  'y1': 60,\n",
              "  'y2': 85,\n",
              "  'y3': 84},\n",
              " {'x0': 686,\n",
              "  'x1': 844,\n",
              "  'x2': 844,\n",
              "  'x3': 686,\n",
              "  'y0': 16,\n",
              "  'y1': 14,\n",
              "  'y2': 60,\n",
              "  'y3': 61},\n",
              " {'x0': 365,\n",
              "  'x1': 475,\n",
              "  'x2': 475,\n",
              "  'x3': 365,\n",
              "  'y0': 14,\n",
              "  'y1': 15,\n",
              "  'y2': 59,\n",
              "  'y3': 58},\n",
              " {'x0': 98,\n",
              "  'x1': 139,\n",
              "  'x2': 137,\n",
              "  'x3': 96,\n",
              "  'y0': 561,\n",
              "  'y1': 567,\n",
              "  'y2': 583,\n",
              "  'y3': 577},\n",
              " {'x0': 857,\n",
              "  'x1': 892,\n",
              "  'x2': 892,\n",
              "  'x3': 857,\n",
              "  'y0': 535,\n",
              "  'y1': 536,\n",
              "  'y2': 549,\n",
              "  'y3': 548},\n",
              " {'x0': 666,\n",
              "  'x1': 696,\n",
              "  'x2': 695,\n",
              "  'x3': 666,\n",
              "  'y0': 358,\n",
              "  'y1': 359,\n",
              "  'y2': 370,\n",
              "  'y3': 369},\n",
              " {'x0': 924,\n",
              "  'x1': 970,\n",
              "  'x2': 969,\n",
              "  'x3': 923,\n",
              "  'y0': 550,\n",
              "  'y1': 553,\n",
              "  'y2': 570,\n",
              "  'y3': 567},\n",
              " {'x0': 324,\n",
              "  'x1': 353,\n",
              "  'x2': 354,\n",
              "  'x3': 325,\n",
              "  'y0': 602,\n",
              "  'y1': 600,\n",
              "  'y2': 613,\n",
              "  'y3': 615},\n",
              " {'x0': 897,\n",
              "  'x1': 935,\n",
              "  'x2': 934,\n",
              "  'x3': 897,\n",
              "  'y0': 533,\n",
              "  'y1': 535,\n",
              "  'y2': 549,\n",
              "  'y3': 547},\n",
              " {'x0': 1024,\n",
              "  'x1': 1061,\n",
              "  'x2': 1061,\n",
              "  'x3': 1023,\n",
              "  'y0': 512,\n",
              "  'y1': 513,\n",
              "  'y2': 525,\n",
              "  'y3': 524},\n",
              " {'x0': 839,\n",
              "  'x1': 874,\n",
              "  'x2': 874,\n",
              "  'x3': 838,\n",
              "  'y0': 551,\n",
              "  'y1': 552,\n",
              "  'y2': 571,\n",
              "  'y3': 570},\n",
              " {'x0': 135,\n",
              "  'x1': 166,\n",
              "  'x2': 168,\n",
              "  'x3': 137,\n",
              "  'y0': 568,\n",
              "  'y1': 562,\n",
              "  'y2': 577,\n",
              "  'y3': 583},\n",
              " {'x0': 875,\n",
              "  'x1': 915,\n",
              "  'x2': 914,\n",
              "  'x3': 874,\n",
              "  'y0': 552,\n",
              "  'y1': 553,\n",
              "  'y2': 571,\n",
              "  'y3': 570},\n",
              " {'x0': 155,\n",
              "  'x1': 184,\n",
              "  'x2': 189,\n",
              "  'x3': 160,\n",
              "  'y0': 558,\n",
              "  'y1': 547,\n",
              "  'y2': 561,\n",
              "  'y3': 572}]"
            ]
          },
          "metadata": {
            "tags": []
          },
          "execution_count": 27
        }
      ]
    },
    {
      "cell_type": "code",
      "metadata": {
        "id": "3JSBW1ZIHljU",
        "colab_type": "code",
        "outputId": "5d1a2c98-498b-4853-95a5-c80939d55002",
        "colab": {}
      },
      "source": [
        "lowNum = min(items[0],key=items[0].get)\n",
        "print(lowNum)"
      ],
      "execution_count": 0,
      "outputs": [
        {
          "output_type": "stream",
          "text": [
            "x3\n"
          ],
          "name": "stdout"
        }
      ]
    },
    {
      "cell_type": "code",
      "metadata": {
        "id": "pKosj5StHljX",
        "colab_type": "code",
        "outputId": "d1d77a43-4ac6-46ef-f7d9-86775545ee01",
        "colab": {}
      },
      "source": [
        "sort\n"
      ],
      "execution_count": 0,
      "outputs": [
        {
          "output_type": "execute_result",
          "data": {
            "text/plain": [
              "['x0', 'x1', 'x2', 'x3', 'y0', 'y1', 'y2', 'y3']"
            ]
          },
          "metadata": {
            "tags": []
          },
          "execution_count": 36
        }
      ]
    },
    {
      "cell_type": "code",
      "metadata": {
        "id": "hNM_pe6EHljb",
        "colab_type": "code",
        "outputId": "913f9860-16ac-48fb-912e-47b198943caa",
        "colab": {}
      },
      "source": [
        "type(items[0])"
      ],
      "execution_count": 0,
      "outputs": [
        {
          "output_type": "execute_result",
          "data": {
            "text/plain": [
              "dict"
            ]
          },
          "metadata": {
            "tags": []
          },
          "execution_count": 42
        }
      ]
    },
    {
      "cell_type": "code",
      "metadata": {
        "id": "9tKsjWzFHlje",
        "colab_type": "code",
        "colab": {}
      },
      "source": [
        "5\n",
        " {'x0': 365,\n",
        "  'x1': 475,\n",
        "  'x2': 475,\n",
        "  'x3': 365,\n",
        "  'y0': 14,\n",
        "  'y1': 15,\n",
        "  'y2': 59,\n",
        "  'y3': 58},\n",
        "    \n",
        "4\n",
        "{'x0': 686,\n",
        "  'x1': 844,\n",
        "  'x2': 844,\n",
        "  'x3': 686,\n",
        "  'y0': 16,\n",
        "  'y1': 14,\n",
        "  'y2': 60,\n",
        "  'y3': 61},\n",
        "\n",
        "2\n",
        "{'x0': 485,\n",
        "  'x1': 676,\n",
        "  'x2': 676,\n",
        "  'x3': 485,\n",
        "  'y0': 14,\n",
        "  'y1': 15,\n",
        "  'y2': 60,\n",
        "  'y3': 59},"
      ],
      "execution_count": 0,
      "outputs": []
    },
    {
      "cell_type": "code",
      "metadata": {
        "id": "40oSlnp_Hljh",
        "colab_type": "code",
        "outputId": "f25d9ca7-79ea-4742-b992-2cb3e6852e28",
        "colab": {}
      },
      "source": [
        "height = {}\n",
        "reqImg = []\n",
        "items = [{'x0': 219, 'y0': 280, 'x1': 573, 'y1': 278, 'x2': 573, 'y2': 348, 'x3': 219, 'y3': 350}, {'x0': 416, 'y0': 361, 'x1': 743, 'y1': 359, 'x2': 744, 'y2': 441, 'x3': 417, 'y3': 443}, {'x0': 496, 'y0': 800, 'x1': 742, 'y1': 807, 'x2': 741, 'y2': 840, 'x3': 495, 'y3': 833}, {'x0': 476, 'y0': 986, 'x1': 661, 'y1': 1002, 'x2': 658, 'y2': 1031, 'x3': 473, 'y3': 1014}, {'x0': 86, 'y0': 374, 'x1': 398, 'y1': 373, 'x2': 398, 'y2': 445, 'x3': 87, 'y3': 446}, {'x0': 88, 'y0': 540, 'x1': 305, 'y1': 542, 'x2': 305, 'y2': 586, 'x3': 88, 'y3': 585}, {'x0': 512, 'y0': 547, 'x1': 676, 'y1': 546, 'x2': 677, 'y2': 589, 'x3': 513, 'y3': 590}, {'x0': 116, 'y0': 778, 'x1': 258, 'y1': 783, 'x2': 257, 'y2': 810, 'x3': 115, 'y3': 806}, {'x0': 501, 'y0': 638, 'x1': 587, 'y1': 640, 'x2': 586, 'y2': 655, 'x3': 500, 'y3': 653}, {'x0': 375, 'y0': 793, 'x1': 477, 'y1': 797, 'x2': 476, 'y2': 825, 'x3': 374, 'y3': 821}, {'x0': 379, 'y0': 977, 'x1': 451, 'y1': 983, 'x2': 449, 'y2': 1006, 'x3': 377, 'y3': 1000}, {'x0': 503, 'y0': 701, 'x1': 582, 'y1': 705, 'x2': 582, 'y2': 719, 'x3': 503, 'y3': 715}, {'x0': 507, 'y0': 743, 'x1': 570, 'y1': 745, 'x2': 570, 'y2': 760, 'x3': 507, 'y3': 758}, {'x0': 326, 'y0': 544, 'x1': 508, 'y1': 547, 'x2': 507, 'y2': 588, 'x3': 326, 'y3': 585}, {'x0': 501, 'y0': 617, 'x1': 572, 'y1': 618, 'x2': 572, 'y2': 631, 'x3': 501, 'y3': 630}, {'x0': 508, 'y0': 659, 'x1': 627, 'y1': 660, 'x2': 627, 'y2': 677, 'x3': 507, 'y3': 676}, {'x0': 624, 'y0': 750, 'x1': 694, 'y1': 751, 'x2': 694, 'y2': 766, 'x3': 623, 'y3': 766}, {'x0': 302, 'y0': 790, 'x1': 368, 'y1': 791, 'x2': 368, 'y2': 816, 'x3': 302, 'y3': 815}, {'x0': 602, 'y0': 705, 'x1': 665, 'y1': 707, 'x2': 665, 'y2': 722, 'x3': 602, 'y3': 721}, {'x0': 707, 'y0': 708, 'x1': 739, 'y1': 707, 'x2': 739, 'y2': 726, 'x3': 707, 'y3': 726}, {'x0': 91, 'y0': 654, 'x1': 151, 'y1': 653, 'x2': 152, 'y2': 668, 'x3': 91, 'y3': 669}, {'x0': 170, 'y0': 955, 'x1': 233, 'y1': 962, 'x2': 231, 'y2': 983, 'x3': 167, 'y3': 976}, {'x0': 94, 'y0': 724, 'x1': 150, 'y1': 724, 'x2': 149, 'y2': 740, 'x3': 94, 'y3': 739}, {'x0': 317, 'y0': 970, 'x1': 374, 'y1': 976, 'x2': 372, 'y2': 998, 'x3': 314, 'y3': 992}, {'x0': 92, 'y0': 677, 'x1': 163, 'y1': 679, 'x2': 162, 'y2': 693, 'x3': 92, 'y3': 692}, {'x0': 151, 'y0': 630, 'x1': 207, 'y1': 631, 'x2': 207, 'y2': 645, 'x3': 150, 'y3': 644}, {'x0': 89, 'y0': 606, 'x1': 150, 'y1': 605, 'x2': 150, 'y2': 619, 'x3': 90, 'y3': 620}, {'x0': 502, 'y0': 680, 'x1': 566, 'y1': 681, 'x2': 566, 'y2': 695, 'x3': 501, 'y3': 694}, {'x0': 90, 'y0': 748, 'x1': 147, 'y1': 749, 'x2': 147, 'y2': 765, 'x3': 90, 'y3': 764}, {'x0': 91, 'y0': 702, 'x1': 150, 'y1': 700, 'x2': 151, 'y2': 715, 'x3': 91, 'y3': 716}, {'x0': 567, 'y0': 746, 'x1': 621, 'y1': 748, 'x2': 620, 'y2': 763, 'x3': 567, 'y3': 761}, {'x0': 153, 'y0': 607, 'x1': 202, 'y1': 607, 'x2': 203, 'y2': 621, 'x3': 153, 'y3': 621}, {'x0': 91, 'y0': 629, 'x1': 148, 'y1': 630, 'x2': 147, 'y2': 644, 'x3': 91, 'y3': 644}, {'x0': 499, 'y0': 764, 'x1': 534, 'y1': 765, 'x2': 534, 'y2': 779, 'x3': 499, 'y3': 778}, {'x0': 531, 'y0': 723, 'x1': 611, 'y1': 726, 'x2': 610, 'y2': 740, 'x3': 530, 'y3': 738}, {'x0': 711, 'y0': 603, 'x1': 742, 'y1': 605, 'x2': 741, 'y2': 616, 'x3': 710, 'y3': 614}, {'x0': 705, 'y0': 686, 'x1': 738, 'y1': 687, 'x2': 738, 'y2': 703, 'x3': 704, 'y3': 702}, {'x0': 234, 'y0': 962, 'x1': 280, 'y1': 965, 'x2': 278, 'y2': 988, 'x3': 232, 'y3': 984}, {'x0': 709, 'y0': 621, 'x1': 741, 'y1': 621, 'x2': 741, 'y2': 636, 'x3': 709, 'y3': 636}, {'x0': 154, 'y0': 704, 'x1': 209, 'y1': 705, 'x2': 209, 'y2': 719, 'x3': 154, 'y3': 718}, {'x0': 143, 'y0': 656, 'x1': 180, 'y1': 657, 'x2': 179, 'y2': 670, 'x3': 143, 'y3': 668}, {'x0': 255, 'y0': 788, 'x1': 294, 'y1': 789, 'x2': 294, 'y2': 812, 'x3': 255, 'y3': 811}, {'x0': 81, 'y0': 776, 'x1': 123, 'y1': 777, 'x2': 122, 'y2': 802, 'x3': 80, 'y3': 801}, {'x0': 540, 'y0': 766, 'x1': 567, 'y1': 766, 'x2': 566, 'y2': 781, 'x3': 539, 'y3': 780}, {'x0': 706, 'y0': 731, 'x1': 737, 'y1': 730, 'x2': 737, 'y2': 746, 'x3': 707, 'y3': 747}, {'x0': 280, 'y0': 968, 'x1': 316, 'y1': 970, 'x2': 314, 'y2': 992, 'x3': 278, 'y3': 989}, {'x0': 575, 'y0': 768, 'x1': 600, 'y1': 769, 'x2': 599, 'y2': 787, 'x3': 574, 'y3': 786}, {'x0': 703, 'y0': 752, 'x1': 736, 'y1': 752, 'x2': 736, 'y2': 768, 'x3': 703, 'y3': 767}, {'x0': 500, 'y0': 721, 'x1': 546, 'y1': 724, 'x2': 546, 'y2': 739, 'x3': 499, 'y3': 737}, {'x0': 225, 'y0': 684, 'x1': 245, 'y1': 685, 'x2': 244, 'y2': 697, 'x3': 224, 'y3': 696}, {'x0': 255, 'y0': 591, 'x1': 287, 'y1': 593, 'x2': 286, 'y2': 604, 'x3': 254, 'y3': 602}, {'x0': 136, 'y0': 953, 'x1': 173, 'y1': 959, 'x2': 169, 'y2': 976, 'x3': 133, 'y3': 970}, {'x0': 152, 'y0': 727, 'x1': 193, 'y1': 728, 'x2': 193, 'y2': 741, 'x3': 152, 'y3': 741}, {'x0': 716, 'y0': 665, 'x1': 740, 'y1': 666, 'x2': 740, 'y2': 680, 'x3': 716, 'y3': 680}, {'x0': 297, 'y0': 592, 'x1': 315, 'y1': 593, 'x2': 314, 'y2': 606, 'x3': 296, 'y3': 604}, {'x0': 225, 'y0': 636, 'x1': 245, 'y1': 635, 'x2': 246, 'y2': 648, 'x3': 225, 'y3': 648}, {'x0': 290, 'y0': 609, 'x1': 315, 'y1': 612, 'x2': 314, 'y2': 625, 'x3': 288, 'y3': 622}, {'x0': 220, 'y0': 591, 'x1': 250, 'y1': 593, 'x2': 249, 'y2': 602, 'x3': 219, 'y3': 601}, {'x0': 223, 'y0': 733, 'x1': 240, 'y1': 734, 'x2': 239, 'y2': 747, 'x3': 222, 'y3': 746}, {'x0': 223, 'y0': 660, 'x1': 240, 'y1': 661, 'x2': 239, 'y2': 672, 'x3': 223, 'y3': 671}, {'x0': 183, 'y0': 654, 'x1': 210, 'y1': 655, 'x2': 209, 'y2': 671, 'x3': 182, 'y3': 670}]\n",
        "\n",
        "for i in range(len(items)):\n",
        "    item = items[i]\n",
        "#     print(item)\n",
        "#     print(\"Height : {0} is {1}\".format(i,item[\"y2\"]-item[\"y1\"]))\n",
        "    height[i]= item[\"y2\"]-item[\"y1\"]\n",
        "print(height)\n",
        "mH = max(height,key=height.get)\n",
        "print(mH)\n",
        "High = height[mH]\n",
        "for img in height.keys():\n",
        "    if int(height[img]) in range(int(High)-3,int(High)+3):\n",
        "        reqImg.append(img)\n",
        "print(reqImg)"
      ],
      "execution_count": 0,
      "outputs": [
        {
          "output_type": "stream",
          "text": [
            "{0: 70, 1: 82, 2: 33, 3: 29, 4: 72, 5: 44, 6: 43, 7: 27, 8: 15, 9: 28, 10: 23, 11: 14, 12: 15, 13: 41, 14: 13, 15: 17, 16: 15, 17: 25, 18: 15, 19: 19, 20: 15, 21: 21, 22: 16, 23: 22, 24: 14, 25: 14, 26: 14, 27: 14, 28: 16, 29: 15, 30: 15, 31: 14, 32: 14, 33: 14, 34: 14, 35: 11, 36: 16, 37: 23, 38: 15, 39: 14, 40: 13, 41: 23, 42: 25, 43: 15, 44: 16, 45: 22, 46: 18, 47: 16, 48: 15, 49: 12, 50: 11, 51: 17, 52: 13, 53: 14, 54: 13, 55: 13, 56: 13, 57: 9, 58: 13, 59: 11, 60: 16}\n",
            "1\n",
            "[1]\n"
          ],
          "name": "stdout"
        }
      ]
    },
    {
      "cell_type": "code",
      "metadata": {
        "id": "usSZT-G8Hljk",
        "colab_type": "code",
        "outputId": "71f876c4-7658-4afd-b708-120c2426f5a9",
        "colab": {}
      },
      "source": [
        "\n",
        "arr = {}\n",
        "for i in reqImg:\n",
        "#     print(i)\n",
        "#     print(items[i])\n",
        "    arr[i]=items[i][\"x0\"]\n",
        "print(arr)\n",
        "sArr = {k: v for k, v in sorted(arr.items(), key=lambda item: item[1])}\n",
        "print(sArr)\n",
        "\n",
        "# res =  [key for key in arr if \n",
        "#         all(arr[temp] >= arr[key] \n",
        "#         for temp in arr)] \n",
        "# print(res[0])"
      ],
      "execution_count": 0,
      "outputs": [
        {
          "output_type": "stream",
          "text": [
            "{1: 416}\n",
            "{1: 416}\n"
          ],
          "name": "stdout"
        }
      ]
    },
    {
      "cell_type": "code",
      "metadata": {
        "id": "luTXs1JJHljo",
        "colab_type": "code",
        "outputId": "8abcab6d-2125-4aaa-db82-e85658925586",
        "colab": {}
      },
      "source": [
        "# Code for Word Matching\n",
        "import numpy\n",
        "a = [\"hello\",\"there\"]\n",
        "b = [\"here\",\"there\",\"hello\",\"devendra\"]\n",
        "verify = numpy.in1d(a,b)\n",
        "if False in verify:\n",
        "    print(False)\n",
        "else:\n",
        "    print(True)\n",
        "cTrue = list(verify).count(True)\n",
        "t = len(verify)\n",
        "match = cTrue/t\n",
        "print(\"Matched : {0} %\".format(match*100))"
      ],
      "execution_count": 0,
      "outputs": [
        {
          "output_type": "stream",
          "text": [
            "True\n",
            "Matched : 100.0 %\n"
          ],
          "name": "stdout"
        }
      ]
    },
    {
      "cell_type": "code",
      "metadata": {
        "id": "B78wMtCPHljr",
        "colab_type": "code",
        "outputId": "03dd50a8-6dcd-4058-a146-6fef38daf970",
        "colab": {}
      },
      "source": [
        "c = [x in b for x in a]\n",
        "print(c)"
      ],
      "execution_count": 0,
      "outputs": [
        {
          "output_type": "stream",
          "text": [
            "[True, True]\n"
          ],
          "name": "stdout"
        }
      ]
    },
    {
      "cell_type": "code",
      "metadata": {
        "id": "dhvMLEc7Hlju",
        "colab_type": "code",
        "colab": {}
      },
      "source": [
        "d = {\n",
        "\t\"img1\": {\n",
        "\t\t\"businessNamePresent\": {\n",
        "\t\t\t\"bpresent\": \"False\",\n",
        "\t\t\t\"match\": 0.5\n",
        "\t\t}\n",
        "\t},\n",
        "\t\"img2\": {\n",
        "\t\t\"businessNamePresent\": {\n",
        "\t\t\t\"bpresent\": \"False\",\n",
        "\t\t\t\"match\": 0.5\n",
        "\t\t}\n",
        "\t},\n",
        "\t\"img3\": {\n",
        "\t\t\"businessNamePresent\": {\n",
        "\t\t\t\"bpresent\": \"True\",\n",
        "\t\t\t\"match\": 0.5\n",
        "\t\t}\n",
        "\t},\n",
        "\t\"img4\": {\n",
        "\t\t\"businessNamePresent\": {\n",
        "\t\t\t\"bpresent\": \"False\",\n",
        "\t\t\t\"match\": 0.5\n",
        "\t\t}\n",
        "\t}\n",
        "}\n",
        "\n",
        "d= {'https://datamime-mobile-prod.s3.ap-south-1.amazonaws.com/public/devendra_ocr/83a5e4b7-70ed-471b-ab61-61328cf23d7e/1.jpg': {'businessNamePresent': {'bpresent': True, 'match': 1.0}, 'image_quality': 'Good', 'rawText': ['Desk', '063'], 'geoData': [{'x0': 269, 'y0': 747, 'x1': 519, 'y1': 748, 'x2': 518, 'y2': 842, 'x3': 268, 'y3': 841}, {'x0': 551, 'y0': 745, 'x1': 736, 'y1': 744, 'x2': 736, 'y2': 848, 'x3': 552, 'y3': 849}]}, 'https://datamime-mobile-prod.s3.ap-south-1.amazonaws.com/public/devendra_ocr/83a5e4b7-70ed-471b-ab61-61328cf23d7e/0.jpg': {'businessNamePresent': {'bpresent': True, 'match': 1.0}, 'image_quality': 'Good', 'rawText': ['Desk', '063'], 'geoData': [{'x0': 284, 'y0': 756, 'x1': 541, 'y1': 757, 'x2': 541, 'y2': 848, 'x3': 284, 'y3': 847}, {'x0': 566, 'y0': 745, 'x1': 751, 'y1': 744, 'x2': 752, 'y2': 849, 'x3': 567, 'y3': 850}]}}\n"
      ],
      "execution_count": 0,
      "outputs": []
    },
    {
      "cell_type": "code",
      "metadata": {
        "id": "DwkryNQ0Hljx",
        "colab_type": "code",
        "outputId": "2bcec056-f359-4a95-b42f-a60a9762b250",
        "colab": {}
      },
      "source": [
        "found = \"False\"\n",
        "# found1 = \"True\" if d[\"img1\"][\"businessNamePresent\"][\"bpresent\"]== \"True\" else False\n",
        "found1 = \"True\" if \"True\" in [\"True\" if d[i][\"businessNamePresent\"][\"bpresent\"]== True else \"False\" for i in d.keys()] else \"False\"\n",
        "# found1 = [i for i in d.keys()]\n",
        "# print(found1)\n",
        "# for i in d.keys():\n",
        "#     print(i)\n",
        "print(found1)"
      ],
      "execution_count": 0,
      "outputs": [
        {
          "output_type": "stream",
          "text": [
            "True\n"
          ],
          "name": "stdout"
        }
      ]
    },
    {
      "cell_type": "code",
      "metadata": {
        "scrolled": true,
        "id": "IEfo6pl4Hljz",
        "colab_type": "code",
        "outputId": "07431fbd-80b6-453e-fbc1-9a9d6a6a2a51",
        "colab": {}
      },
      "source": [
        "d = {'https://datamime-mobile-prod.s3.ap-south-1.amazonaws.com/public/devendra_ocr/83a5e4b7-70ed-471b-ab61-61328cf23d7e/1.jpg': {'businessNamePresent': {'bpresent': True, 'match': 1.0}, 'image_quality': 'Good', 'rawText': ['Desk', '063'], 'geoData': [{'x0': 269, 'y0': 747, 'x1': 519, 'y1': 748, 'x2': 518, 'y2': 842, 'x3': 268, 'y3': 841}, {'x0': 551, 'y0': 745, 'x1': 736, 'y1': 744, 'x2': 736, 'y2': 848, 'x3': 552, 'y3': 849}]}}\n",
        "im = ['s3_imgs/images/1.jpg', 's3_imgs/images/0.jpg']\n",
        "\n",
        "proD = len(d.keys())\n",
        "# print(proD)\n",
        "prodata = d.keys()\n",
        "# print(prodata)\n",
        "toProc = []\n",
        "if proD < len(im):\n",
        "#     print(True)\n",
        "    for imag in im:\n",
        "        imp = (imag.split(\"/\"))[::-1][0]\n",
        "        for s3u in d:\n",
        "            if imp in s3u:\n",
        "                pass\n",
        "            else:\n",
        "                toProc.append(imp)\n",
        "print(toProc)\n",
        "                \n",
        "pd = ['https://datamime-mobile-prod.s3.ap-south-1.amazonaws.com/public/devendra_ocr/f23aff90-2436-4c2e-966e-ab9443019dde/0.jpg','https://datamime-mobile-prod.s3.ap-south-1.amazonaws.com/public/devendra_ocr/f23aff90-2436-4c2e-966e-ab9443019dde/1.jpg']\n",
        "# print(toProc)\n",
        "for i in toProc:\n",
        "    surl = [u for u in pd if i in u] \n",
        "print(surl[0])"
      ],
      "execution_count": 0,
      "outputs": [
        {
          "output_type": "stream",
          "text": [
            "['0.jpg']\n",
            "https://datamime-mobile-prod.s3.ap-south-1.amazonaws.com/public/devendra_ocr/f23aff90-2436-4c2e-966e-ab9443019dde/0.jpg\n"
          ],
          "name": "stdout"
        }
      ]
    },
    {
      "cell_type": "code",
      "metadata": {
        "id": "Pn9UF6tjHlj3",
        "colab_type": "code",
        "outputId": "4801ad89-a8eb-4744-c100-73b50073c994",
        "colab": {}
      },
      "source": [
        "tArr = []\n",
        "\n",
        "t = [s3u for s3u in [(imag.split(\"/\"))[::-1][0] for imag in im if proD<len(im)]]\n",
        "# for surl in prodata:\n",
        "#     for \n",
        "# t = toP.append(s3u) if s3u not in proD [for s3u in [(imag.split(\"/\"))[::-1][0] for imag in im if proD<len(im)]]\n",
        "print(tArr)\n",
        "# print(prodata)\n",
        "\n"
      ],
      "execution_count": 0,
      "outputs": [
        {
          "output_type": "stream",
          "text": [
            "dict_keys(['https://datamime-mobile-prod.s3.ap-south-1.amazonaws.com/public/devendra_ocr/83a5e4b7-70ed-471b-ab61-61328cf23d7e/1.jpg'])\n",
            "[]\n"
          ],
          "name": "stdout"
        }
      ]
    },
    {
      "cell_type": "code",
      "metadata": {
        "id": "trtUH-F3Hlj6",
        "colab_type": "code",
        "outputId": "aed89aca-463d-4a5e-edaf-4bb81de1ec32",
        "colab": {}
      },
      "source": [
        "d = {'https://datamime-mobile-prod.s3.ap-south-1.amazonaws.com/public/devendra_ocr/83a5e4b7-70ed-471b-ab61-61328cf23d7e/1.jpg': {'businessNamePresent': {'bpresent': True, 'match': 1.0}, 'image_quality': 'Good', 'rawText': ['Desk', '063'], 'geoData': [{'x0': 269, 'y0': 747, 'x1': 519, 'y1': 748, 'x2': 518, 'y2': 842, 'x3': 268, 'y3': 841}, {'x0': 551, 'y0': 745, 'x1': 736, 'y1': 744, 'x2': 736, 'y2': 848, 'x3': 552, 'y3': 849}]}}\n",
        "im = ['s3_imgs/images/1.jpg', 's3_imgs/images/0.jpg']\n",
        "\n",
        "procD = [proURL.split(\"/\")[::-1][0] for proURL in d.keys()]\n",
        "imgs = [ims.split(\"/\")[::-1][0] for ims in im]\n",
        "# print(procD)\n",
        "import numpy\n",
        "res = list(numpy.in1d(imgs, procD))\n",
        "print(res)\n",
        "a = [i for i in range(len(res)) if res[i]==False]\n",
        "for r in a:\n",
        "    imgToProc = imgs[r]\n",
        "    # Write the Specific Function to be Executed\n",
        "    \n",
        "    print(imgToProc)"
      ],
      "execution_count": 0,
      "outputs": [
        {
          "output_type": "stream",
          "text": [
            "[True, False]\n",
            "0.jpg\n"
          ],
          "name": "stdout"
        }
      ]
    },
    {
      "cell_type": "code",
      "metadata": {
        "id": "Y9nEhB3OHlj9",
        "colab_type": "code",
        "outputId": "2e2bb7b4-e112-4e1f-ecad-87c3538ab5e2",
        "colab": {}
      },
      "source": [
        "a = ['https://datamime-mobile-prod.s3.ap-south-1.amazonaws.com/public/devendra_ocr/83a5e4b7-70ed-471b-ab61-61328cf23d7e/1.jpg','https://datamime-mobile-prod.s3.ap-south-1.amazonaws.com/public/devendra_ocr/83a5e4b7-70ed-471b-ab61-61328cf23d7e/0.jpg']\n",
        "# print(d.keys())\n",
        "images = \"s3_imgs/images/\"\n",
        "r = list(numpy.in1d(a,list(d.keys())))\n",
        "fr = [i for i in range(len(r)) if r[i]==False]\n",
        "print(fr)\n",
        "if len(fr) >= 1:\n",
        "    for fre in fr:\n",
        "        localURL = images+(a[fre].split(\"/\")[3:][::-1][0])\n",
        "        print(localURL)"
      ],
      "execution_count": 0,
      "outputs": [
        {
          "output_type": "stream",
          "text": [
            "[1]\n",
            "s3_imgs/images/0.jpg\n"
          ],
          "name": "stdout"
        }
      ]
    },
    {
      "cell_type": "code",
      "metadata": {
        "id": "M4uF5AoOHlkA",
        "colab_type": "code",
        "outputId": "df307d67-fd00-4a2a-b8f0-5a1f7c5dafdb",
        "colab": {
          "base_uri": "https://localhost:8080/",
          "height": 53
        }
      },
      "source": [
        "import numpy\n",
        "rd = [\n",
        "                        \"VENKATA\",\n",
        "                        \"MEDUR\",\n",
        "                        \"SOLUTIONS\",\n",
        "                        \"PRESIDENT\",\n",
        "                        \"DELIVERY\",\n",
        "                        \"KIRAN\",\n",
        "                        \"vice\"\n",
        "                    ]\n",
        "bn = \"Venkata Kiran Meduri\"\n",
        "\n",
        "bnArr = bn.split()\n",
        "bnArrlow = [s.lower() for s in bnArr]\n",
        "rdlow = [[s.lower() for s in rd]]\n",
        "print(bnArrlow)\n",
        "print(rdlow)\n",
        "matchResults = list(numpy.in1d(rdlow, bnArrlow))\n"
      ],
      "execution_count": 0,
      "outputs": [
        {
          "output_type": "stream",
          "text": [
            "['venkata', 'kiran', 'meduri']\n",
            "[['venkata', 'medur', 'solutions', 'president', 'delivery', 'kiran', 'vice']]\n"
          ],
          "name": "stdout"
        }
      ]
    },
    {
      "cell_type": "code",
      "metadata": {
        "id": "jWBhQ2kBHlkC",
        "colab_type": "code",
        "outputId": "bfcc150b-9c3e-494c-8d78-7004ee5539da",
        "colab": {
          "base_uri": "https://localhost:8080/",
          "height": 287
        }
      },
      "source": [
        "!pip install fuzzywuzzy\n",
        "!pip install python-Levenshtein\n",
        "from fuzzywuzzy import fuzz"
      ],
      "execution_count": 4,
      "outputs": [
        {
          "output_type": "stream",
          "text": [
            "Collecting fuzzywuzzy\n",
            "  Downloading https://files.pythonhosted.org/packages/43/ff/74f23998ad2f93b945c0309f825be92e04e0348e062026998b5eefef4c33/fuzzywuzzy-0.18.0-py2.py3-none-any.whl\n",
            "Installing collected packages: fuzzywuzzy\n",
            "Successfully installed fuzzywuzzy-0.18.0\n",
            "Collecting python-Levenshtein\n",
            "\u001b[?25l  Downloading https://files.pythonhosted.org/packages/42/a9/d1785c85ebf9b7dfacd08938dd028209c34a0ea3b1bcdb895208bd40a67d/python-Levenshtein-0.12.0.tar.gz (48kB)\n",
            "\u001b[K     |████████████████████████████████| 51kB 2.6MB/s \n",
            "\u001b[?25hRequirement already satisfied: setuptools in /usr/local/lib/python3.6/dist-packages (from python-Levenshtein) (45.1.0)\n",
            "Building wheels for collected packages: python-Levenshtein\n",
            "  Building wheel for python-Levenshtein (setup.py) ... \u001b[?25l\u001b[?25hdone\n",
            "  Created wheel for python-Levenshtein: filename=python_Levenshtein-0.12.0-cp36-cp36m-linux_x86_64.whl size=144675 sha256=b5df327e2cf1a0766a795c3c3df704ec6f29ae24b7d425877db46405c3feaa0b\n",
            "  Stored in directory: /root/.cache/pip/wheels/de/c2/93/660fd5f7559049268ad2dc6d81c4e39e9e36518766eaf7e342\n",
            "Successfully built python-Levenshtein\n",
            "Installing collected packages: python-Levenshtein\n",
            "Successfully installed python-Levenshtein-0.12.0\n"
          ],
          "name": "stdout"
        }
      ]
    },
    {
      "cell_type": "code",
      "metadata": {
        "id": "8LTaYy9Tquj0",
        "colab_type": "code",
        "outputId": "b5678655-b8b6-492d-cc86-285b9369dce3",
        "colab": {
          "base_uri": "https://localhost:8080/",
          "height": 71
        }
      },
      "source": [
        "\n",
        "rawText = [\n",
        "                        \"VENKATA\",\n",
        "                        \"MEDUR\",\n",
        "                        \"SOLUTIONS\",\n",
        "                        \"PRESIDENT\",\n",
        "                        \"DELIVERY\",\n",
        "                        \"KIRAN\",\n",
        "                        \"vice\"\n",
        "                    ]\n",
        "bn = 'Venkata Kiran Meduri'\n",
        "bnLower = [s.lower() for s in bn.split()]\n",
        "# print(bnLower)\n",
        "# print(rw)\n",
        "rwLower = [s.lower() for s in rawText]\n",
        "# print(rwLower)\n",
        "rw = ' '.join(rawText)\n",
        "\n",
        "bnT = ' '.join(bnLower)\n",
        "rwT = ' '.join(rwLower)\n",
        "\n",
        "print(bnT)\n",
        "print(rwT)\n",
        "\n",
        "# fuzz.partial_ratio(rw, bn)\n",
        "# fuzz.token_set_ratio(bnLower, rwLower)\n",
        "# fuzz.partial_ratio(rwLower, bnLower)\n",
        "# fuzz.token_sort_ratio(rwT, bnT)\n",
        "# fuzz.partial_token_set_ratio(rwT, bnT)\n",
        "# fuzz.partial_token_sort_ratio(bnLower, rwLower)\n",
        "fuzz.partial_token_sort_ratio(rwLower, bnLower)"
      ],
      "execution_count": 5,
      "outputs": [
        {
          "output_type": "stream",
          "text": [
            "venkata kiran meduri\n",
            "venkata medur solutions president delivery kiran vice\n"
          ],
          "name": "stdout"
        },
        {
          "output_type": "execute_result",
          "data": {
            "text/plain": [
              "70"
            ]
          },
          "metadata": {
            "tags": []
          },
          "execution_count": 5
        }
      ]
    },
    {
      "cell_type": "code",
      "metadata": {
        "id": "AgrAnFLyrQ5I",
        "colab_type": "code",
        "outputId": "0414aa9b-9d68-419f-d9c1-9ef13aa7e87e",
        "colab": {
          "base_uri": "https://localhost:8080/",
          "height": 35
        }
      },
      "source": [
        "fuzz.token_set_ratio('venkata medur solutions president delivery kiran vice','venkata meduri kiran')\n",
        "\n",
        "fuzz.token_set_ratio(rwLower, bnLower)"
      ],
      "execution_count": 0,
      "outputs": [
        {
          "output_type": "execute_result",
          "data": {
            "text/plain": [
              "100"
            ]
          },
          "metadata": {
            "tags": []
          },
          "execution_count": 73
        }
      ]
    },
    {
      "cell_type": "code",
      "metadata": {
        "id": "8Qs7_gZKt6zO",
        "colab_type": "code",
        "outputId": "59ee201d-c7e8-47b5-97c3-e8fbcc1c189c",
        "colab": {
          "base_uri": "https://localhost:8080/",
          "height": 35
        }
      },
      "source": [
        "# fuzz.token_set_ratio(['devendra', 'reddy', 'engineer', 'software'], ['engineer', 'devondra'])\n",
        "fuzz.partial_token_sort_ratio(['devendra', 'reddy', 'engineer', 'software'], ['engineer', 'devondra', 'reddy'])"
      ],
      "execution_count": 0,
      "outputs": [
        {
          "output_type": "execute_result",
          "data": {
            "text/plain": [
              "96"
            ]
          },
          "metadata": {
            "tags": []
          },
          "execution_count": 116
        }
      ]
    },
    {
      "cell_type": "code",
      "metadata": {
        "id": "qG9LsdI-1yiY",
        "colab_type": "code",
        "outputId": "49edde50-5234-4f68-dd29-cf58f0393dec",
        "colab": {
          "base_uri": "https://localhost:8080/",
          "height": 35
        }
      },
      "source": [
        "fuzz.partial_token_sort_ratio(rwLower, bnLower)\n",
        "print(rwLower,bnLower)"
      ],
      "execution_count": 0,
      "outputs": [
        {
          "output_type": "stream",
          "text": [
            "['venkata', 'medur', 'solutions', 'president', 'delivery', 'kiran', 'vice'] ['venkata', 'kiran', 'medur']\n"
          ],
          "name": "stdout"
        }
      ]
    },
    {
      "cell_type": "code",
      "metadata": {
        "id": "jnVRlh_w3q4J",
        "colab_type": "code",
        "outputId": "4255844c-cec6-46d9-9bde-b68c03338e70",
        "colab": {
          "base_uri": "https://localhost:8080/",
          "height": 35
        }
      },
      "source": [
        "fuzz.token_set_ratio(['venkata', 'medur', 'solutions', 'president', 'delivery', 'kiran', 'vice'],['venkata', 'kiran', 'meduri'])\n",
        "# fuzz.token_set_ratio(['venkata', 'medur','kiran',],['venkata', 'kiran', 'meduri'])"
      ],
      "execution_count": 0,
      "outputs": [
        {
          "output_type": "execute_result",
          "data": {
            "text/plain": [
              "79"
            ]
          },
          "metadata": {
            "tags": []
          },
          "execution_count": 137
        }
      ]
    },
    {
      "cell_type": "code",
      "metadata": {
        "id": "FcQ9uW_36erR",
        "colab_type": "code",
        "outputId": "a05749b7-78b7-4343-8927-a618161cac91",
        "colab": {
          "base_uri": "https://localhost:8080/",
          "height": 53
        }
      },
      "source": [
        "mr = []\n",
        "mk = {}\n",
        "# print(bnLower)\n",
        "# print(rwLower)\n",
        "for bl in ['venkata', 'kiran', 'meduri']:\n",
        "  for rl in ['venkata', 'medur', 'solutions', 'president', 'delivery', 'kiran', 'vice']:\n",
        "    # print(\"Comparing rl :{0} with bl: {1}\".format(rl,bl))\n",
        "    if fuzz.ratio(bl, rl) > 85:\n",
        "      # print(fuzz.partial_ratio(bl, rl))\n",
        "      # print(bl)\n",
        "      mr.append(fuzz.ratio(rl, bl))\n",
        "      mk[bl] = []\n",
        "      mk[bl].append(fuzz.ratio(rl, bl))\n",
        "      mk[bl].append(rl)\n",
        "      break\n",
        "print(mr)\n",
        "print(mk)"
      ],
      "execution_count": 6,
      "outputs": [
        {
          "output_type": "stream",
          "text": [
            "[100, 100, 91]\n",
            "{'venkata': [100, 'venkata'], 'kiran': [100, 'kiran'], 'meduri': [91, 'medur']}\n"
          ],
          "name": "stdout"
        }
      ]
    },
    {
      "cell_type": "code",
      "metadata": {
        "id": "dHknHCAeCcVQ",
        "colab_type": "code",
        "outputId": "7f1521f9-ac3e-41e7-cbb0-240f6ccbb035",
        "colab": {
          "base_uri": "https://localhost:8080/",
          "height": 35
        }
      },
      "source": [
        "mk.values()\n",
        "avg = (sum(mr)/(len(bnLower)))\n",
        "print(avg)"
      ],
      "execution_count": 0,
      "outputs": [
        {
          "output_type": "stream",
          "text": [
            "97.0\n"
          ],
          "name": "stdout"
        }
      ]
    },
    {
      "cell_type": "code",
      "metadata": {
        "id": "5DDXRwynEsYl",
        "colab_type": "code",
        "outputId": "f581e1a6-30ce-482f-f1da-ad2d6eb3d6de",
        "colab": {
          "base_uri": "https://localhost:8080/",
          "height": 35
        }
      },
      "source": [
        ""
      ],
      "execution_count": 0,
      "outputs": [
        {
          "output_type": "execute_result",
          "data": {
            "text/plain": [
              "0.97"
            ]
          },
          "metadata": {
            "tags": []
          },
          "execution_count": 176
        }
      ]
    },
    {
      "cell_type": "code",
      "metadata": {
        "id": "FJTIIZthOTl9",
        "colab_type": "code",
        "colab": {}
      },
      "source": [
        ""
      ],
      "execution_count": 0,
      "outputs": []
    }
  ]
}